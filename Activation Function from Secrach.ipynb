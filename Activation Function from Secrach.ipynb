{
 "cells": [
  {
   "cell_type": "code",
   "execution_count": 33,
   "id": "e027a080-2ef0-4f69-8647-64d380de2043",
   "metadata": {},
   "outputs": [],
   "source": [
    "import math"
   ]
  },
  {
   "cell_type": "markdown",
   "id": "10998d6e-a385-4c2a-bcd6-95536ef08cb6",
   "metadata": {},
   "source": [
    "Simoid Funtion "
   ]
  },
  {
   "cell_type": "code",
   "execution_count": 2,
   "id": "b2c86e91-7a70-4759-a2c2-4253ba78886c",
   "metadata": {},
   "outputs": [],
   "source": [
    "def sigmoid(x):\n",
    "    return 1/(1+ math.exp(-x))"
   ]
  },
  {
   "cell_type": "code",
   "execution_count": 16,
   "id": "5fb8025a-5552-4cba-8052-34c7dd5ea304",
   "metadata": {},
   "outputs": [
    {
     "data": {
      "text/plain": [
       "0.7310585786300049"
      ]
     },
     "execution_count": 16,
     "metadata": {},
     "output_type": "execute_result"
    }
   ],
   "source": [
    "sigmoid(1)"
   ]
  },
  {
   "cell_type": "code",
   "execution_count": 19,
   "id": "70c35263-8de0-42c3-ad51-cbb63da5482e",
   "metadata": {},
   "outputs": [
    {
     "data": {
      "text/plain": [
       "1.0"
      ]
     },
     "execution_count": 19,
     "metadata": {},
     "output_type": "execute_result"
    }
   ],
   "source": [
    "sigmoid(95)"
   ]
  },
  {
   "cell_type": "markdown",
   "id": "9a1f1df4-cc66-45d8-a1c7-1c8303109d13",
   "metadata": {},
   "source": [
    "Tanh Function "
   ]
  },
  {
   "cell_type": "code",
   "execution_count": 20,
   "id": "404a2544-4b07-418a-ae4e-ce4d48e990ac",
   "metadata": {},
   "outputs": [],
   "source": [
    "def tanh(x):\n",
    "    return(math.exp(x)-math.exp(-x))/(math.exp(x)+math.exp(-x))"
   ]
  },
  {
   "cell_type": "code",
   "execution_count": 21,
   "id": "554e2fd0-168f-4455-8c2c-2158c6fdf8c1",
   "metadata": {},
   "outputs": [
    {
     "data": {
      "text/plain": [
       "1.0"
      ]
     },
     "execution_count": 21,
     "metadata": {},
     "output_type": "execute_result"
    }
   ],
   "source": [
    "tanh(100)"
   ]
  },
  {
   "cell_type": "code",
   "execution_count": 22,
   "id": "d1a6574e-f580-4695-a20e-bfef265a85a5",
   "metadata": {},
   "outputs": [
    {
     "data": {
      "text/plain": [
       "-1.0"
      ]
     },
     "execution_count": 22,
     "metadata": {},
     "output_type": "execute_result"
    }
   ],
   "source": [
    "tanh(-100)"
   ]
  },
  {
   "cell_type": "code",
   "execution_count": 23,
   "id": "d2d5d537-076f-4d67-af1a-910a263a1559",
   "metadata": {},
   "outputs": [
    {
     "data": {
      "text/plain": [
       "-0.7615941559557649"
      ]
     },
     "execution_count": 23,
     "metadata": {},
     "output_type": "execute_result"
    }
   ],
   "source": [
    "tanh(-1)"
   ]
  },
  {
   "cell_type": "code",
   "execution_count": 25,
   "id": "09b4f67f-f50c-492d-a5b6-8952a56961a3",
   "metadata": {},
   "outputs": [
    {
     "data": {
      "text/plain": [
       "0.9999999999998128"
      ]
     },
     "execution_count": 25,
     "metadata": {},
     "output_type": "execute_result"
    }
   ],
   "source": [
    "tanh(15)"
   ]
  },
  {
   "cell_type": "markdown",
   "id": "3add78d8-7e44-4abb-a8d9-8ead5113eddd",
   "metadata": {},
   "source": [
    "Relu Function"
   ]
  },
  {
   "cell_type": "code",
   "execution_count": 34,
   "id": "824dc405-ee98-40f5-8ec6-8451ccd394de",
   "metadata": {},
   "outputs": [],
   "source": [
    "def relu(x):\n",
    "    return max(0, x)"
   ]
  },
  {
   "cell_type": "code",
   "execution_count": 36,
   "id": "bee8a37d-48e3-40ca-9ac6-bd2eef922bc0",
   "metadata": {},
   "outputs": [
    {
     "data": {
      "text/plain": [
       "0"
      ]
     },
     "execution_count": 36,
     "metadata": {},
     "output_type": "execute_result"
    }
   ],
   "source": [
    "relu(-185)"
   ]
  },
  {
   "cell_type": "code",
   "execution_count": 37,
   "id": "6377c4af-2a9c-49c2-a8b1-ecdbe7d048a5",
   "metadata": {},
   "outputs": [],
   "source": [
    "def leaky_relu(x):\n",
    "    return max(0.1*x ,x)"
   ]
  },
  {
   "cell_type": "markdown",
   "id": "a3f49e1b-d2c1-4370-ad58-e262c1d00b45",
   "metadata": {},
   "source": [
    "Leaky Relu Function"
   ]
  },
  {
   "cell_type": "code",
   "execution_count": 41,
   "id": "c0601872-59d1-4300-ad31-10cdeebf01f8",
   "metadata": {},
   "outputs": [
    {
     "data": {
      "text/plain": [
       "-15.8"
      ]
     },
     "execution_count": 41,
     "metadata": {},
     "output_type": "execute_result"
    }
   ],
   "source": [
    "leaky_relu(-158)"
   ]
  },
  {
   "cell_type": "code",
   "execution_count": null,
   "id": "6f3098be-bc58-4bc0-b89f-a5af3e8d409b",
   "metadata": {},
   "outputs": [],
   "source": []
  }
 ],
 "metadata": {
  "kernelspec": {
   "display_name": "Python 3 (ipykernel)",
   "language": "python",
   "name": "python3"
  },
  "language_info": {
   "codemirror_mode": {
    "name": "ipython",
    "version": 3
   },
   "file_extension": ".py",
   "mimetype": "text/x-python",
   "name": "python",
   "nbconvert_exporter": "python",
   "pygments_lexer": "ipython3",
   "version": "3.11.6"
  }
 },
 "nbformat": 4,
 "nbformat_minor": 5
}
