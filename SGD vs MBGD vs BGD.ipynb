{
 "cells": [
  {
   "cell_type": "code",
   "execution_count": 1,
   "id": "20bb0502-6b7f-48db-9577-a17a4e349d16",
   "metadata": {},
   "outputs": [],
   "source": [
    "import numpy as np \n",
    "import pandas as pd"
   ]
  },
  {
   "cell_type": "code",
   "execution_count": 2,
   "id": "f749c62c-4749-4e1c-b73b-250daa139fbd",
   "metadata": {},
   "outputs": [
    {
     "name": "stdout",
     "output_type": "stream",
     "text": [
      "           name     role         type demographic  \\\n",
      "0  sepal length  Feature   Continuous        None   \n",
      "1   sepal width  Feature   Continuous        None   \n",
      "2  petal length  Feature   Continuous        None   \n",
      "3   petal width  Feature   Continuous        None   \n",
      "4         class   Target  Categorical        None   \n",
      "\n",
      "                                         description units missing_values  \n",
      "0                                               None    cm             no  \n",
      "1                                               None    cm             no  \n",
      "2                                               None    cm             no  \n",
      "3                                               None    cm             no  \n",
      "4  class of iris plant: Iris Setosa, Iris Versico...  None             no  \n"
     ]
    }
   ],
   "source": [
    "from ucimlrepo import fetch_ucirepo \n",
    "  \n",
    "# fetch dataset \n",
    "iris = fetch_ucirepo(id=53) \n",
    "  \n",
    "# data (as pandas dataframes) \n",
    "X = iris.data.features \n",
    "y = iris.data.targets \n",
    "  \n",
    "# metadata \n",
    "# print(iris.metadata) \n",
    "  \n",
    "# variable information \n",
    "print(iris.variables) \n"
   ]
  },
  {
   "cell_type": "code",
   "execution_count": 3,
   "id": "abde427f-d1d4-447b-874d-6bb81f3dfc60",
   "metadata": {},
   "outputs": [
    {
     "data": {
      "text/plain": [
       "150"
      ]
     },
     "execution_count": 3,
     "metadata": {},
     "output_type": "execute_result"
    }
   ],
   "source": [
    "len(X)"
   ]
  },
  {
   "cell_type": "code",
   "execution_count": 4,
   "id": "5b66d1ad-aee7-43d1-802e-9613b7823f07",
   "metadata": {},
   "outputs": [],
   "source": [
    "data = pd.read_csv(\"data1.csv\")"
   ]
  },
  {
   "cell_type": "code",
   "execution_count": 5,
   "id": "1048076e-63dc-4385-9254-e31b1f5df168",
   "metadata": {},
   "outputs": [
    {
     "data": {
      "text/html": [
       "<div>\n",
       "<style scoped>\n",
       "    .dataframe tbody tr th:only-of-type {\n",
       "        vertical-align: middle;\n",
       "    }\n",
       "\n",
       "    .dataframe tbody tr th {\n",
       "        vertical-align: top;\n",
       "    }\n",
       "\n",
       "    .dataframe thead th {\n",
       "        text-align: right;\n",
       "    }\n",
       "</style>\n",
       "<table border=\"1\" class=\"dataframe\">\n",
       "  <thead>\n",
       "    <tr style=\"text-align: right;\">\n",
       "      <th></th>\n",
       "      <th>area</th>\n",
       "      <th>bedrooms</th>\n",
       "      <th>price</th>\n",
       "    </tr>\n",
       "  </thead>\n",
       "  <tbody>\n",
       "    <tr>\n",
       "      <th>0</th>\n",
       "      <td>1056</td>\n",
       "      <td>2</td>\n",
       "      <td>39.07</td>\n",
       "    </tr>\n",
       "    <tr>\n",
       "      <th>1</th>\n",
       "      <td>2600</td>\n",
       "      <td>4</td>\n",
       "      <td>120.00</td>\n",
       "    </tr>\n",
       "    <tr>\n",
       "      <th>2</th>\n",
       "      <td>1440</td>\n",
       "      <td>3</td>\n",
       "      <td>62.00</td>\n",
       "    </tr>\n",
       "    <tr>\n",
       "      <th>3</th>\n",
       "      <td>1521</td>\n",
       "      <td>3</td>\n",
       "      <td>75.00</td>\n",
       "    </tr>\n",
       "    <tr>\n",
       "      <th>4</th>\n",
       "      <td>1200</td>\n",
       "      <td>2</td>\n",
       "      <td>51.00</td>\n",
       "    </tr>\n",
       "  </tbody>\n",
       "</table>\n",
       "</div>"
      ],
      "text/plain": [
       "   area  bedrooms   price\n",
       "0  1056         2   39.07\n",
       "1  2600         4  120.00\n",
       "2  1440         3   62.00\n",
       "3  1521         3   75.00\n",
       "4  1200         2   51.00"
      ]
     },
     "execution_count": 5,
     "metadata": {},
     "output_type": "execute_result"
    }
   ],
   "source": [
    "data.head()"
   ]
  },
  {
   "cell_type": "code",
   "execution_count": 6,
   "id": "9b564a68-5260-4b03-96d5-db1109cd334a",
   "metadata": {},
   "outputs": [
    {
     "name": "stderr",
     "output_type": "stream",
     "text": [
      "C:\\Users\\r_ran\\AppData\\Local\\Programs\\Python\\Python311\\Lib\\random.py:383: SettingWithCopyWarning: \n",
      "A value is trying to be set on a copy of a slice from a DataFrame\n",
      "\n",
      "See the caveats in the documentation: https://pandas.pydata.org/pandas-docs/stable/user_guide/indexing.html#returning-a-view-versus-a-copy\n",
      "  x[i], x[j] = x[j], x[i]\n"
     ]
    }
   ],
   "source": [
    "import random\n",
    "random.shuffle(X[\"sepal length\"])\n",
    "\n",
    "split_ratio= 0.8\n",
    "split_index = int(split_ratio*len(X))\n",
    "\n",
    "x_train_data = X[:split_index]\n",
    "x_test_data = X[split_index:]\n",
    "y_train_data = y[:split_index]\n",
    "y_test_data = y[split_index:]\n"
   ]
  },
  {
   "cell_type": "code",
   "execution_count": 7,
   "id": "1c36c2b8-8411-44a7-8c04-6eb455d3626d",
   "metadata": {},
   "outputs": [
    {
     "data": {
      "text/plain": [
       "120"
      ]
     },
     "execution_count": 7,
     "metadata": {},
     "output_type": "execute_result"
    }
   ],
   "source": [
    "len(x_train_data)"
   ]
  },
  {
   "cell_type": "code",
   "execution_count": 8,
   "id": "d9ade36e-ea22-48c6-be71-363f44ea4f1e",
   "metadata": {},
   "outputs": [
    {
     "data": {
      "text/plain": [
       "30"
      ]
     },
     "execution_count": 8,
     "metadata": {},
     "output_type": "execute_result"
    }
   ],
   "source": [
    "len(x_test_data)"
   ]
  },
  {
   "cell_type": "code",
   "execution_count": 9,
   "id": "d743d024-207d-4b66-bb52-6f720e413d5f",
   "metadata": {},
   "outputs": [],
   "source": [
    "features = data.drop(\"price\" , axis = 1)"
   ]
  },
  {
   "cell_type": "code",
   "execution_count": 10,
   "id": "fe95c4c0-83d6-4074-b795-54584c117b48",
   "metadata": {},
   "outputs": [],
   "source": [
    "target = data[\"price\"]"
   ]
  },
  {
   "cell_type": "markdown",
   "id": "0e76095d-c38b-4712-a93f-53b82e21032b",
   "metadata": {},
   "source": [
    "### Batch Gradient Desecent"
   ]
  },
  {
   "cell_type": "code",
   "execution_count": 11,
   "id": "87387a67-48cb-488a-87e0-f5ce26c88f84",
   "metadata": {},
   "outputs": [],
   "source": [
    "def batch_gradient_desecent(features , target , epochs , learning_rate = 0.03):\n",
    "    num_features = features.shape[1]\n",
    "    w = np.ones(shape =(num_features))\n",
    "    bias = 0\n",
    "    # print(num_features , w )\n",
    "    total_sample = features.shape[0]\n",
    "    # print(total_sample)\n",
    "\n",
    "    cost_list = []\n",
    "    epoch_list= []\n",
    "\n",
    "    for i in range(epochs):\n",
    "        y_pred = np.dot(w , features.T) + bias\n",
    "        error = target - y_pred\n",
    "        trans = np.transpose(features)\n",
    "        # print(trans)\n",
    "        w1 =  np.dot(trans , error)\n",
    "        # print(w1)\n",
    "        # print(error)\n",
    "        # print(features.T.dot(target- y_pred))\n",
    "\n",
    "        w_grad = (2/total_sample)*(features.T.dot(target -y_pred))\n",
    "        b_grad = (2/total_sample)*np.sum(target - y_pred)\n",
    "\n",
    "\n",
    "        w = w-learning_rate*w_grad\n",
    "        bias = bias-learning_rate*b_grad\n",
    "\n",
    "\n",
    "        cost = np.mean(np.square(target - y_pred))\n",
    "\n",
    "\n",
    "        if i%10 ==0:\n",
    "            cost_list.append(cost)\n",
    "            epoch_list.append(i)\n",
    "\n",
    "\n",
    "    return w , bias, cost , cost_list , epoch_list"
   ]
  },
  {
   "cell_type": "code",
   "execution_count": 12,
   "id": "9aeee7f4-9e83-4c2a-b302-5c4c24e2b3a4",
   "metadata": {},
   "outputs": [],
   "source": [
    "w , bias ,cost ,cost_list , epoch  = batch_gradient_desecent(features , target , 20)"
   ]
  },
  {
   "cell_type": "code",
   "execution_count": 13,
   "id": "aafb7ec6-b86b-4e79-a59a-152cc2d70d33",
   "metadata": {},
   "outputs": [],
   "source": [
    "def predict(area , badroom , w ,bias):\n",
    "    pred = w.iloc[0]*area + w.iloc[1]*badroom + bias\n",
    "    return pred\n",
    "    "
   ]
  },
  {
   "cell_type": "code",
   "execution_count": 14,
   "id": "a213b784-04e9-45c2-b7b7-6b9a0a13e35e",
   "metadata": {},
   "outputs": [],
   "source": [
    "y_pred = predict(1440,3,w,bias)"
   ]
  },
  {
   "cell_type": "code",
   "execution_count": 15,
   "id": "6484996e-fc8d-46cb-a41f-f2d29049c09a",
   "metadata": {},
   "outputs": [
    {
     "data": {
      "text/plain": [
       "6.366121749196729e+110"
      ]
     },
     "execution_count": 15,
     "metadata": {},
     "output_type": "execute_result"
    }
   ],
   "source": [
    "y_pred"
   ]
  },
  {
   "cell_type": "markdown",
   "id": "20a83718-61c2-4ead-a595-75ec84e95c2c",
   "metadata": {},
   "source": [
    "### Stochastic Gradient Descent "
   ]
  },
  {
   "cell_type": "code",
   "execution_count": 16,
   "id": "7fff5640-304a-4ee5-a4b5-d29ab8c5291e",
   "metadata": {},
   "outputs": [],
   "source": [
    "def stochastic_gradient_descent(features , target , epochs , learning_rate = 0.03):\n",
    "    number_of_features = features.shape[1]\n",
    "\n",
    "    w1 = np.ones(shape = (number_of_features))\n",
    "    b1 = 0\n",
    "    total_sample = features.shape[0]\n",
    "\n",
    "    cost_list = []\n",
    "    epoch_list = []\n",
    "\n",
    "\n",
    "    for i in range(epochs):\n",
    "        random_index = random.randint(0 , total_sample-1)\n",
    "        # print(random_index)\n",
    "        sample_x = features.iloc[random_index]\n",
    "        sample_y = target.iloc[random_index]\n",
    "        sample_x = np.array(sample_x)\n",
    "        sample_y = np.array(sample_y)\n",
    "        y_predicted = np.dot(w , sample_x.T)+b1\n",
    "        # print(y_predicted)\n",
    "        # print(sample_y)\n",
    "        # print(sample_x[1])\n",
    "        # print(sample_x)\n",
    "        w_grand = -(2/total_sample)*(sample_x.T.dot(sample_y - y_predicted))\n",
    "        b_grand = -(2/total_sample)*(sample_y - y_predicted)\n",
    "\n",
    "\n",
    "        w1 = w1-(learning_rate*w_grand)\n",
    "        b1 = b1-(learning_rate*b_grand)\n",
    "\n",
    "\n",
    "        cost = np.square(sample_y - y_predicted)\n",
    "\n",
    "\n",
    "        if i%100==0:\n",
    "            cost_list.append(cost)\n",
    "            epoch_list.append(i)\n",
    "    return w1 , b1 , cost , cost_list , epoch_list"
   ]
  },
  {
   "cell_type": "code",
   "execution_count": 17,
   "id": "a0e2e9aa-f421-4110-9905-4a58e5b32e40",
   "metadata": {},
   "outputs": [],
   "source": [
    "w1 , b1 , cost1 , cost_list1 , epoch_list1 = stochastic_gradient_descent(features , target , 10000) "
   ]
  },
  {
   "cell_type": "code",
   "execution_count": 18,
   "id": "03c27753-cd4e-45ba-8980-eaebf027cba8",
   "metadata": {},
   "outputs": [
    {
     "data": {
      "text/plain": [
       "area        1000\n",
       "bedrooms       2\n",
       "Name: 12, dtype: int64"
      ]
     },
     "execution_count": 18,
     "metadata": {},
     "output_type": "execute_result"
    }
   ],
   "source": [
    "features.iloc[12]"
   ]
  },
  {
   "cell_type": "code",
   "execution_count": 19,
   "id": "6d175001-eb8e-45b8-aa17-35e2c266c02a",
   "metadata": {},
   "outputs": [
    {
     "data": {
      "text/plain": [
       "array([-1.09742482e+115, -1.18426010e+112])"
      ]
     },
     "execution_count": 19,
     "metadata": {},
     "output_type": "execute_result"
    }
   ],
   "source": [
    "w1"
   ]
  },
  {
   "cell_type": "code",
   "execution_count": 20,
   "id": "8bdf777f-998b-4e39-94f2-bbfd69b62623",
   "metadata": {},
   "outputs": [
    {
     "data": {
      "text/plain": [
       "area        4.420903e+107\n",
       "bedrooms    6.574672e+104\n",
       "dtype: float64"
      ]
     },
     "execution_count": 20,
     "metadata": {},
     "output_type": "execute_result"
    }
   ],
   "source": [
    "w"
   ]
  },
  {
   "cell_type": "markdown",
   "id": "4a39d95c-169b-4324-86f6-793a3c852f8d",
   "metadata": {},
   "source": [
    "### Mini Batch Gradient Descent my My Self"
   ]
  },
  {
   "cell_type": "code",
   "execution_count": 22,
   "id": "ed691b2d-5729-4a7f-aa09-bc0f39f4dd33",
   "metadata": {},
   "outputs": [],
   "source": [
    "def mini_batch_gradient(features , target , epochs , learning_rate=0.03):\n",
    "    number_of_features  = features.shape[1]\n",
    "    w2 = np.ones(shape = (number_of_features))\n",
    "    b2 = 0\n",
    "    total_sample = features.shape[0]\n",
    "    total = 10\n",
    "    cost_list = []\n",
    "    epoch_list = []\n",
    "\n",
    "    for i in range(epochs):\n",
    "        random_index = []\n",
    "        for i in range(10):\n",
    "            r_index = random.randint(0, total_sample-1)\n",
    "            random_index.append(r_index)\n",
    "\n",
    "        # print(random_index)\n",
    "        sample_x = features.iloc[random_index]\n",
    "        sample_y = target.iloc[random_index]\n",
    "        sample_x = np.array(sample_x)\n",
    "        sample_y = np.array(sample_y)\n",
    "        # print(sample_x)\n",
    "        # print(sample_y)\n",
    "        y_pred = np.dot(w , sample_x.T)+b2\n",
    "        \n",
    "        w_grad = -(2/total)*(sample_x.T.dot(sample_y-y_pred))\n",
    "        b_grad = -(2/total)*(sample_y-y_pred)\n",
    "        \n",
    "        w2 = w2-(learning_rate*w_grad)\n",
    "        b2 =b2-(learning_rate*b_grad)\n",
    "\n",
    "        cost = np.mean(np.square(sample_y - y_pred))\n",
    "\n",
    "        if i%10 == 0:\n",
    "            cost_list.append(cost)\n",
    "            epoch_list.apped(i)\n",
    "    return w2 , b2 , cost , cost_list, epoch_list"
   ]
  },
  {
   "cell_type": "code",
   "execution_count": 23,
   "id": "895fec3f-1295-4166-bb93-9ab3de00c9f0",
   "metadata": {},
   "outputs": [],
   "source": [
    "w2 , bias2 , cost , cost_list , epoch_list = mini_batch_gradient(features , target , 100)"
   ]
  },
  {
   "cell_type": "code",
   "execution_count": 24,
   "id": "064356c1-705d-4035-8d26-5654b8fbc558",
   "metadata": {},
   "outputs": [
    {
     "data": {
      "text/plain": [
       "array([-8.82597814e+114, -1.28274055e+112])"
      ]
     },
     "execution_count": 24,
     "metadata": {},
     "output_type": "execute_result"
    }
   ],
   "source": [
    "w2"
   ]
  },
  {
   "cell_type": "code",
   "execution_count": 25,
   "id": "4ef4fe08-a771-457d-b116-3c62b2df66db",
   "metadata": {},
   "outputs": [
    {
     "data": {
      "text/plain": [
       "array([-3.84484184e+110, -3.58709116e+110, -3.81547049e+110,\n",
       "       -3.62034208e+110, -3.79007692e+110, -3.84422090e+110,\n",
       "       -3.78350668e+110, -3.50167989e+110, -3.36185996e+110,\n",
       "       -3.79079930e+110])"
      ]
     },
     "execution_count": 25,
     "metadata": {},
     "output_type": "execute_result"
    }
   ],
   "source": [
    "bias2"
   ]
  },
  {
   "cell_type": "code",
   "execution_count": 26,
   "id": "bf412aa4-84ce-4b45-b8f4-b4b01829984a",
   "metadata": {},
   "outputs": [
    {
     "data": {
      "text/plain": [
       "-8.335897035928975e+110"
      ]
     },
     "execution_count": 26,
     "metadata": {},
     "output_type": "execute_result"
    }
   ],
   "source": [
    "b1"
   ]
  },
  {
   "cell_type": "markdown",
   "id": "57478998-963c-480d-883c-31986de2a732",
   "metadata": {},
   "source": [
    "### Mini Batch Gradicent Descent Internet"
   ]
  },
  {
   "cell_type": "code",
   "execution_count": 27,
   "id": "8529d6cf-8c8f-40ff-9816-925d610f1f9b",
   "metadata": {},
   "outputs": [],
   "source": [
    "def mini_batch_G_D(features , target , epochs=10000 , batch_size = 5 , learning_rate = 0.03):\n",
    "    number_of_features = features.shape[1]\n",
    "    w3  = np.ones(shape=(number_of_features))\n",
    "    b3 = 0\n",
    "    total_sample = features.shape[0]\n",
    "\n",
    "    if batch_size>total_sample:\n",
    "        batch_size = total_sample\n",
    "\n",
    "    cost_list = []\n",
    "    epoch_list = []\n",
    "\n",
    "    num_batches = int(total_sample/batch_size)\n",
    "\n",
    "    for i  in range(epochs):\n",
    "        random_indices = np.random.permutation(total_sample)\n",
    "        x_tmp = features.iloc[random_indices]\n",
    "        y_tmp = target.iloc[random_indices]\n",
    "\n",
    "\n",
    "        for j in range(0 , total_sample , batch_size):\n",
    "            Xj = x_tmp[j:j+batch_size]\n",
    "            Yj = y_tmp[j:j+batch_size]\n",
    "            y_pred = np.dot(w , Xj.T)+b3\n",
    "\n",
    "\n",
    "            w_grad = -(2/len(Xj))*(Xj.T.dot(Yj-y_pred))\n",
    "            b_grad = -(2/len(Yj))*np.sum(Yj-y_pred)\n",
    "\n",
    "\n",
    "            w3= w3-learning_rate*w_grad\n",
    "            b3 = b3-learning_rate*b_grad\n",
    "\n",
    "            cost = np.mean(np.square(Yj- y_pred))\n",
    "\n",
    "\n",
    "            if i%10==0:\n",
    "                cost_list.append(cost)\n",
    "                epoch_list.append(i)\n",
    "\n",
    "            return w3 , b3 ,cost , cost_list , epoch_list"
   ]
  },
  {
   "cell_type": "code",
   "execution_count": 28,
   "id": "c3391aaa-da24-4263-bb53-f1cad77aa751",
   "metadata": {},
   "outputs": [],
   "source": [
    "w3 , b3 , cost3 , cost_list , epoch_list = mini_batch_G_D(features , target)"
   ]
  },
  {
   "cell_type": "code",
   "execution_count": 29,
   "id": "950796c5-cc20-475e-a263-9d8817a86e74",
   "metadata": {},
   "outputs": [
    {
     "data": {
      "text/plain": [
       "area        4.420903e+107\n",
       "bedrooms    6.574672e+104\n",
       "dtype: float64"
      ]
     },
     "execution_count": 29,
     "metadata": {},
     "output_type": "execute_result"
    }
   ],
   "source": [
    "w"
   ]
  },
  {
   "cell_type": "code",
   "execution_count": 30,
   "id": "2bd7e9a1-013d-420f-871f-180e44ca9f0b",
   "metadata": {},
   "outputs": [
    {
     "data": {
      "text/plain": [
       "array([-1.09742482e+115, -1.18426010e+112])"
      ]
     },
     "execution_count": 30,
     "metadata": {},
     "output_type": "execute_result"
    }
   ],
   "source": [
    "w1"
   ]
  },
  {
   "cell_type": "code",
   "execution_count": 31,
   "id": "ef6ada24-923c-4b1a-a582-4a16e6bb4a94",
   "metadata": {},
   "outputs": [
    {
     "data": {
      "text/plain": [
       "area       -1.055334e+113\n",
       "bedrooms   -1.653174e+110\n",
       "dtype: float64"
      ]
     },
     "execution_count": 31,
     "metadata": {},
     "output_type": "execute_result"
    }
   ],
   "source": [
    "w3\n",
    "\n"
   ]
  },
  {
   "cell_type": "code",
   "execution_count": 32,
   "id": "24265624-f517-46af-8d1a-fa8eac719348",
   "metadata": {},
   "outputs": [
    {
     "data": {
      "text/plain": [
       "1.999188131901224e+104"
      ]
     },
     "execution_count": 32,
     "metadata": {},
     "output_type": "execute_result"
    }
   ],
   "source": [
    "bias"
   ]
  },
  {
   "cell_type": "code",
   "execution_count": 33,
   "id": "9f51b0f3-f8d1-46a5-a9b6-bc2eec5b11af",
   "metadata": {},
   "outputs": [
    {
     "data": {
      "text/plain": [
       "-8.335897035928975e+110"
      ]
     },
     "execution_count": 33,
     "metadata": {},
     "output_type": "execute_result"
    }
   ],
   "source": [
    "b1"
   ]
  },
  {
   "cell_type": "code",
   "execution_count": 34,
   "id": "8afa472b-fa9d-4a83-b0e6-a37456bfa0c7",
   "metadata": {},
   "outputs": [
    {
     "data": {
      "text/plain": [
       "-4.565566569717403e+109"
      ]
     },
     "execution_count": 34,
     "metadata": {},
     "output_type": "execute_result"
    }
   ],
   "source": [
    "b3"
   ]
  },
  {
   "cell_type": "code",
   "execution_count": null,
   "id": "e5749aa5-1611-442f-bdb8-1112b3b396d0",
   "metadata": {},
   "outputs": [],
   "source": []
  },
  {
   "cell_type": "code",
   "execution_count": null,
   "id": "4a01b393-b171-481f-a1bc-f8576b6d7a30",
   "metadata": {},
   "outputs": [],
   "source": []
  },
  {
   "cell_type": "code",
   "execution_count": null,
   "id": "fb605b65-6638-4aac-8917-f55b1856fedc",
   "metadata": {},
   "outputs": [],
   "source": []
  }
 ],
 "metadata": {
  "kernelspec": {
   "display_name": "Python 3 (ipykernel)",
   "language": "python",
   "name": "python3"
  },
  "language_info": {
   "codemirror_mode": {
    "name": "ipython",
    "version": 3
   },
   "file_extension": ".py",
   "mimetype": "text/x-python",
   "name": "python",
   "nbconvert_exporter": "python",
   "pygments_lexer": "ipython3",
   "version": "3.11.6"
  }
 },
 "nbformat": 4,
 "nbformat_minor": 5
}
